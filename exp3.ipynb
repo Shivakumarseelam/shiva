{
  "nbformat": 4,
  "nbformat_minor": 0,
  "metadata": {
    "colab": {
      "provenance": [],
      "authorship_tag": "ABX9TyM6aSUHFfJqNmMvdMK64pvf",
      "include_colab_link": true
    },
    "kernelspec": {
      "name": "python3",
      "display_name": "Python 3"
    },
    "language_info": {
      "name": "python"
    }
  },
  "cells": [
    {
      "cell_type": "markdown",
      "metadata": {
        "id": "view-in-github",
        "colab_type": "text"
      },
      "source": [
        "<a href=\"https://colab.research.google.com/github/Shivakumarseelam/shiva/blob/main/exp3.ipynb\" target=\"_parent\"><img src=\"https://colab.research.google.com/assets/colab-badge.svg\" alt=\"Open In Colab\"/></a>"
      ]
    },
    {
      "cell_type": "code",
      "source": [
        "import numpy as np\n",
        "def pearson_correlation(x, y):\n",
        "# Calculate means\n",
        "    mean_x = np.mean(x)\n",
        "    mean_y = np.mean(y)\n",
        "# Calculate covariance and standard deviations\n",
        "    covariance = np.sum((x - mean_x) * (y - mean_y))\n",
        "    std_dev_x = np.sqrt(np.sum((x - mean_x) ** 2))\n",
        "    std_dev_y = np.sqrt(np.sum((y - mean_y) ** 2))\n",
        "# Calculate Pearson's correlation coefficient\n",
        "    correlation = covariance / (std_dev_x * std_dev_y)\n",
        "    return correlation\n",
        "# Example usage\n",
        "x = np.array([1, 2, 3, 4, 5])\n",
        "y = np.array([2, 3, 4, 5, 6])\n",
        "print(\"Pearson's Correlation Coefficient:\",\n",
        "pearson_correlation(x, y))"
      ],
      "metadata": {
        "colab": {
          "base_uri": "https://localhost:8080/"
        },
        "id": "MpRuxkiVUkAB",
        "outputId": "179b80d5-5cb3-4f3e-b965-f8e87860746c"
      },
      "execution_count": 2,
      "outputs": [
        {
          "output_type": "stream",
          "name": "stdout",
          "text": [
            "Pearson's Correlation Coefficient: 0.9999999999999998\n"
          ]
        }
      ]
    },
    {
      "cell_type": "code",
      "source": [
        " from sklearn.metrics.pairwise import cosine_similarity\n",
        " # Example usage\n",
        " vector1 = np.array([1, 2, 3])\n",
        " vector2 = np.array([4, 5, 6])\n",
        " cosine_sim = cosine_similarity(vector1.reshape(1,-1),\n",
        "vector2.reshape(1,-1))\n",
        " print(\"Cosine Similarity:\", cosine_sim[0][0])"
      ],
      "metadata": {
        "colab": {
          "base_uri": "https://localhost:8080/"
        },
        "id": "ahCtYJfoVOg1",
        "outputId": "48cfd879-6afb-40eb-c724-ec1ca14ec8c4"
      },
      "execution_count": 3,
      "outputs": [
        {
          "output_type": "stream",
          "name": "stdout",
          "text": [
            "Cosine Similarity: 0.9746318461970762\n"
          ]
        }
      ]
    },
    {
      "cell_type": "code",
      "source": [
        "def jaccard_similarity(set1, set2):\n",
        "     intersection = len(set1.intersection(set2))\n",
        "     union = len(set1.union(set2))\n",
        "     return intersection / union\n",
        "# Example usage\n",
        "set1 = set([1, 2, 3])\n",
        "set2 = set([2, 3, 4])\n",
        "print(\"Jaccard Similarity:\",\n",
        "jaccard_similarity(set1, set2))"
      ],
      "metadata": {
        "colab": {
          "base_uri": "https://localhost:8080/"
        },
        "id": "SsUAHmrSVggw",
        "outputId": "7d094aaa-f208-43cc-d06a-a0764d444c85"
      },
      "execution_count": 7,
      "outputs": [
        {
          "output_type": "stream",
          "name": "stdout",
          "text": [
            "Jaccard Similarity: 0.5\n"
          ]
        }
      ]
    },
    {
      "cell_type": "code",
      "source": [
        "def euclidean_distance(x, y):\n",
        "   return np.sqrt(np.sum((x - y) ** 2))\n",
        "# Example usage\n",
        "point1 = np.array([1, 2, 3])\n",
        "point2 = np.array([4, 5, 6])\n",
        "print(\"Euclidean Distance:\",\n",
        "euclidean_distance(point1, point2))\n"
      ],
      "metadata": {
        "colab": {
          "base_uri": "https://localhost:8080/"
        },
        "id": "B5DrkmOXVxql",
        "outputId": "ba47d289-3b21-4ec1-9649-7eaa40e719f4"
      },
      "execution_count": 9,
      "outputs": [
        {
          "output_type": "stream",
          "name": "stdout",
          "text": [
            "Euclidean Distance: 5.196152422706632\n"
          ]
        }
      ]
    },
    {
      "cell_type": "code",
      "source": [
        "def manhattan_distance(x, y):\n",
        "     return np.sum(np.abs(x - y))\n",
        "# Example usage\n",
        "point1 = np.array([1, 2, 3])\n",
        "point2 = np.array([4, 5, 6])\n",
        "print(\"Manhattan Distance:\",\n",
        "manhattan_distance(point1, point2))"
      ],
      "metadata": {
        "colab": {
          "base_uri": "https://localhost:8080/"
        },
        "id": "0WKt8VmSV3fY",
        "outputId": "8d008f9e-40d7-4d62-b831-c7e355380be2"
      },
      "execution_count": 10,
      "outputs": [
        {
          "output_type": "stream",
          "name": "stdout",
          "text": [
            "Manhattan Distance: 9\n"
          ]
        }
      ]
    }
  ]
}